{
 "cells": [
  {
   "cell_type": "code",
   "execution_count": 9,
   "id": "bf48f88a",
   "metadata": {},
   "outputs": [
    {
     "name": "stdout",
     "output_type": "stream",
     "text": [
      "{'Cheese': 234, 'Pizza': 83, 'Coke': 145, 'Steak': 46, 'Burger': 196, 'Fries': 76, 'Rib': 33, 'Taco': 57, 'Pho': 19, 'Potato': 3}\n"
     ]
    }
   ],
   "source": [
    "dict_1 = {}\n",
    "\n",
    "with open('hw2_data.txt', 'r') as f:\n",
    "    for line in f:\n",
    "        line = line.replace('\\n','')\n",
    "        if dict_1.get(line)==None:\n",
    "            dict_1[line] = 1\n",
    "        else:\n",
    "            dict_1[line] += 1 \n",
    "        \n",
    "print(dict_1)"
   ]
  }
 ],
 "metadata": {
  "kernelspec": {
   "display_name": "Python 3 (ipykernel)",
   "language": "python",
   "name": "python3"
  },
  "language_info": {
   "codemirror_mode": {
    "name": "ipython",
    "version": 3
   },
   "file_extension": ".py",
   "mimetype": "text/x-python",
   "name": "python",
   "nbconvert_exporter": "python",
   "pygments_lexer": "ipython3",
   "version": "3.9.13"
  }
 },
 "nbformat": 4,
 "nbformat_minor": 5
}
